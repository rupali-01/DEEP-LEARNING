{
  "nbformat": 4,
  "nbformat_minor": 0,
  "metadata": {
    "colab": {
      "provenance": [],
      "authorship_tag": "ABX9TyNv4Ed0nMFO1/zRaw0UJjiP",
      "include_colab_link": true
    },
    "kernelspec": {
      "name": "python3",
      "display_name": "Python 3"
    },
    "language_info": {
      "name": "python"
    }
  },
  "cells": [
    {
      "cell_type": "markdown",
      "metadata": {
        "id": "view-in-github",
        "colab_type": "text"
      },
      "source": [
        "<a href=\"https://colab.research.google.com/github/rupali-01/DEEP-LEARNING/blob/main/Basic_lossandcost_function_.ipynb\" target=\"_parent\"><img src=\"https://colab.research.google.com/assets/colab-badge.svg\" alt=\"Open In Colab\"/></a>"
      ]
    },
    {
      "cell_type": "code",
      "execution_count": 1,
      "metadata": {
        "id": "6EZjTGe3Z4-k"
      },
      "outputs": [],
      "source": [
        "import numpy as np"
      ]
    },
    {
      "cell_type": "code",
      "source": [
        "y_predicted = np.array([0,1,0,1,1,1,1,0,0,1])\n",
        "y_true = np.array([0.30,0.7,1,0,0.5,0.6,0.3,0.2,0.1,0.9])"
      ],
      "metadata": {
        "id": "BfiaJb6aaMku"
      },
      "execution_count": 2,
      "outputs": []
    },
    {
      "cell_type": "code",
      "source": [
        "def mae(y_predicted, y_true):\n",
        "    total_error = 0\n",
        "    for yp, yt in zip(y_predicted, y_true):\n",
        "        total_error += abs(yp - yt)\n",
        "    print(\"Total error is:\",total_error)\n",
        "    mae = total_error/len(y_predicted)\n",
        "    print(\"Mean absolute error is:\",mae)\n",
        "    return mae"
      ],
      "metadata": {
        "id": "o2FXkIGxaTKG"
      },
      "execution_count": 3,
      "outputs": []
    },
    {
      "cell_type": "code",
      "source": [
        "mae(y_predicted, y_true)"
      ],
      "metadata": {
        "colab": {
          "base_uri": "https://localhost:8080/"
        },
        "id": "zI2lOA-eaVpA",
        "outputId": "99152b80-5726-4c1f-b79a-0be443f4a5b0"
      },
      "execution_count": 4,
      "outputs": [
        {
          "output_type": "stream",
          "name": "stdout",
          "text": [
            "Total error is: 4.6\n",
            "Mean absolute error is: 0.45999999999999996\n"
          ]
        },
        {
          "output_type": "execute_result",
          "data": {
            "text/plain": [
              "np.float64(0.45999999999999996)"
            ]
          },
          "metadata": {},
          "execution_count": 4
        }
      ]
    },
    {
      "cell_type": "code",
      "source": [
        "np.abs(y_predicted-y_true)"
      ],
      "metadata": {
        "colab": {
          "base_uri": "https://localhost:8080/"
        },
        "id": "N8JnjlPUaa3_",
        "outputId": "38427712-5c31-45ea-a32b-68c0e8b8e691"
      },
      "execution_count": 5,
      "outputs": [
        {
          "output_type": "execute_result",
          "data": {
            "text/plain": [
              "array([0.3, 0.3, 1. , 1. , 0.5, 0.4, 0.7, 0.2, 0.1, 0.1])"
            ]
          },
          "metadata": {},
          "execution_count": 5
        }
      ]
    },
    {
      "cell_type": "code",
      "source": [
        "np.mean(np.abs(y_predicted-y_true))"
      ],
      "metadata": {
        "colab": {
          "base_uri": "https://localhost:8080/"
        },
        "id": "ZqXHplCfagNV",
        "outputId": "40d28506-320e-4829-b180-61d4431ec4f6"
      },
      "execution_count": 6,
      "outputs": [
        {
          "output_type": "execute_result",
          "data": {
            "text/plain": [
              "np.float64(0.45999999999999996)"
            ]
          },
          "metadata": {},
          "execution_count": 6
        }
      ]
    },
    {
      "cell_type": "code",
      "source": [
        "def mae_np(y_predicted, y_true):\n",
        "    return np.mean(np.abs(y_predicted-y_true))"
      ],
      "metadata": {
        "id": "ZC5aBDmpal2A"
      },
      "execution_count": 7,
      "outputs": []
    },
    {
      "cell_type": "code",
      "source": [
        "mae_np(y_predicted, y_true)"
      ],
      "metadata": {
        "colab": {
          "base_uri": "https://localhost:8080/"
        },
        "id": "jfkBFaaAanh8",
        "outputId": "8f23ceb0-e1d1-456f-9061-1aca3d61656b"
      },
      "execution_count": 8,
      "outputs": [
        {
          "output_type": "execute_result",
          "data": {
            "text/plain": [
              "np.float64(0.45999999999999996)"
            ]
          },
          "metadata": {},
          "execution_count": 8
        }
      ]
    },
    {
      "cell_type": "code",
      "source": [
        "np.log([0])"
      ],
      "metadata": {
        "colab": {
          "base_uri": "https://localhost:8080/"
        },
        "id": "BeTDqa6Paq2B",
        "outputId": "18e35805-2c68-44e3-effe-6750c1d06cde"
      },
      "execution_count": 9,
      "outputs": [
        {
          "output_type": "stream",
          "name": "stderr",
          "text": [
            "<ipython-input-9-faee82fd9f21>:1: RuntimeWarning: divide by zero encountered in log\n",
            "  np.log([0])\n"
          ]
        },
        {
          "output_type": "execute_result",
          "data": {
            "text/plain": [
              "array([-inf])"
            ]
          },
          "metadata": {},
          "execution_count": 9
        }
      ]
    },
    {
      "cell_type": "code",
      "source": [
        "epsilon = 1e-15"
      ],
      "metadata": {
        "id": "JKkuvp8qavFL"
      },
      "execution_count": 10,
      "outputs": []
    },
    {
      "cell_type": "code",
      "source": [
        "np.log([1e-15])"
      ],
      "metadata": {
        "colab": {
          "base_uri": "https://localhost:8080/"
        },
        "id": "ms64lSZTawhN",
        "outputId": "b034eb93-59b4-40d5-9ed1-40569eccae68"
      },
      "execution_count": 11,
      "outputs": [
        {
          "output_type": "execute_result",
          "data": {
            "text/plain": [
              "array([-34.53877639])"
            ]
          },
          "metadata": {},
          "execution_count": 11
        }
      ]
    },
    {
      "cell_type": "code",
      "source": [
        "y_predicted"
      ],
      "metadata": {
        "colab": {
          "base_uri": "https://localhost:8080/"
        },
        "id": "QmBeVbdZa0jJ",
        "outputId": "e740f6ee-71f4-454b-8756-733c3ba6f90b"
      },
      "execution_count": 12,
      "outputs": [
        {
          "output_type": "execute_result",
          "data": {
            "text/plain": [
              "array([0, 1, 0, 1, 1, 1, 1, 0, 0, 1])"
            ]
          },
          "metadata": {},
          "execution_count": 12
        }
      ]
    },
    {
      "cell_type": "code",
      "source": [
        "y_predicted_new = [max(i,epsilon) for i in y_predicted]\n",
        "y_predicted_new"
      ],
      "metadata": {
        "colab": {
          "base_uri": "https://localhost:8080/"
        },
        "id": "j_l2M02aa2zT",
        "outputId": "0ea41005-3393-4715-c54b-bd3cef0b5fbb"
      },
      "execution_count": 13,
      "outputs": [
        {
          "output_type": "execute_result",
          "data": {
            "text/plain": [
              "[1e-15,\n",
              " np.int64(1),\n",
              " 1e-15,\n",
              " np.int64(1),\n",
              " np.int64(1),\n",
              " np.int64(1),\n",
              " np.int64(1),\n",
              " 1e-15,\n",
              " 1e-15,\n",
              " np.int64(1)]"
            ]
          },
          "metadata": {},
          "execution_count": 13
        }
      ]
    },
    {
      "cell_type": "code",
      "source": [
        "1-epsilon"
      ],
      "metadata": {
        "colab": {
          "base_uri": "https://localhost:8080/"
        },
        "id": "_WXHVqVwa6P-",
        "outputId": "911369a1-1758-4fc0-d540-cae12c8f7862"
      },
      "execution_count": 14,
      "outputs": [
        {
          "output_type": "execute_result",
          "data": {
            "text/plain": [
              "0.999999999999999"
            ]
          },
          "metadata": {},
          "execution_count": 14
        }
      ]
    },
    {
      "cell_type": "code",
      "source": [
        "\n",
        "y_predicted_new = [min(i,1-epsilon) for i in y_predicted_new]\n",
        "y_predicted_new"
      ],
      "metadata": {
        "colab": {
          "base_uri": "https://localhost:8080/"
        },
        "id": "NbN8-KM3a8vN",
        "outputId": "4633e5c3-364e-499d-e860-4ffd4c3c4a45"
      },
      "execution_count": 15,
      "outputs": [
        {
          "output_type": "execute_result",
          "data": {
            "text/plain": [
              "[1e-15,\n",
              " 0.999999999999999,\n",
              " 1e-15,\n",
              " 0.999999999999999,\n",
              " 0.999999999999999,\n",
              " 0.999999999999999,\n",
              " 0.999999999999999,\n",
              " 1e-15,\n",
              " 1e-15,\n",
              " 0.999999999999999]"
            ]
          },
          "metadata": {},
          "execution_count": 15
        }
      ]
    },
    {
      "cell_type": "code",
      "source": [
        "\n",
        "y_predicted_new = np.array(y_predicted_new)"
      ],
      "metadata": {
        "id": "ZLUR4aI0a_YT"
      },
      "execution_count": 16,
      "outputs": []
    },
    {
      "cell_type": "code",
      "source": [
        "np.log(y_predicted_new)"
      ],
      "metadata": {
        "colab": {
          "base_uri": "https://localhost:8080/"
        },
        "id": "3nmXeAoIbBSK",
        "outputId": "9fb1786c-341c-4708-f3fa-add58025b462"
      },
      "execution_count": 17,
      "outputs": [
        {
          "output_type": "execute_result",
          "data": {
            "text/plain": [
              "array([-3.45387764e+01, -9.99200722e-16, -3.45387764e+01, -9.99200722e-16,\n",
              "       -9.99200722e-16, -9.99200722e-16, -9.99200722e-16, -3.45387764e+01,\n",
              "       -3.45387764e+01, -9.99200722e-16])"
            ]
          },
          "metadata": {},
          "execution_count": 17
        }
      ]
    },
    {
      "cell_type": "code",
      "source": [
        "-np.mean(y_true*np.log(y_predicted_new)+(1-y_true)*np.log(1-y_predicted_new))"
      ],
      "metadata": {
        "colab": {
          "base_uri": "https://localhost:8080/"
        },
        "id": "C6ZZlLG-bD8P",
        "outputId": "e7095d41-31f6-49f9-f472-0c6c3a1ccff3"
      },
      "execution_count": 18,
      "outputs": [
        {
          "output_type": "execute_result",
          "data": {
            "text/plain": [
              "np.float64(15.888077020887973)"
            ]
          },
          "metadata": {},
          "execution_count": 18
        }
      ]
    },
    {
      "cell_type": "code",
      "source": [
        "def log_loss(y_true, y_predicted):\n",
        "    y_predicted_new = [max(i,epsilon) for i in y_predicted]\n",
        "    y_predicted_new = [min(i,1-epsilon) for i in y_predicted_new]\n",
        "    y_predicted_new = np.array(y_predicted_new)\n",
        "    return -np.mean(y_true*np.log(y_predicted_new)+(1-y_true)*np.log(1-y_predicted_new))"
      ],
      "metadata": {
        "id": "nWiD85VHbFLe"
      },
      "execution_count": 19,
      "outputs": []
    },
    {
      "cell_type": "code",
      "source": [
        "log_loss(y_true, y_predicted)"
      ],
      "metadata": {
        "colab": {
          "base_uri": "https://localhost:8080/"
        },
        "id": "mxgb4kzHbJkz",
        "outputId": "cbafd488-8364-487d-ba88-fdcb61840cfa"
      },
      "execution_count": 20,
      "outputs": [
        {
          "output_type": "execute_result",
          "data": {
            "text/plain": [
              "np.float64(15.888077020887973)"
            ]
          },
          "metadata": {},
          "execution_count": 20
        }
      ]
    },
    {
      "cell_type": "code",
      "source": [
        "#Without Numpy\n",
        "def mse(y_predicted, y_true):\n",
        "    total_error = 0\n",
        "    for yp, yt in zip(y_predicted, y_true):\n",
        "        total_error += (yp - yt) ** 2\n",
        "    mse_value = total_error / len(y_predicted)\n",
        "    return mse_value\n",
        "\n",
        "print(mse(y_predicted, y_true))"
      ],
      "metadata": {
        "colab": {
          "base_uri": "https://localhost:8080/"
        },
        "id": "4BKByGy5bKzh",
        "outputId": "d67108bd-ff9b-4b32-ce88-7c3196606cd0"
      },
      "execution_count": 21,
      "outputs": [
        {
          "output_type": "stream",
          "name": "stdout",
          "text": [
            "0.31399999999999995\n"
          ]
        }
      ]
    },
    {
      "cell_type": "code",
      "source": [
        "\n",
        "#With Numpy\n",
        "def mse_np(y_predicted, y_true):\n",
        "    return np.mean((y_predicted - y_true) ** 2)\n",
        "\n",
        "print(mse_np(y_predicted, y_true))\n"
      ],
      "metadata": {
        "id": "Q1IHTqBLbQLz",
        "outputId": "28e59b08-1bbe-4533-b6bc-ec3ec23c9e91",
        "colab": {
          "base_uri": "https://localhost:8080/"
        }
      },
      "execution_count": 22,
      "outputs": [
        {
          "output_type": "stream",
          "name": "stdout",
          "text": [
            "0.31399999999999995\n"
          ]
        }
      ]
    }
  ]
}
